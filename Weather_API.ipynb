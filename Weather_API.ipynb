{
 "cells": [
  {
   "cell_type": "markdown",
   "id": "c1e82f76-1370-4055-83b4-ce365f39101d",
   "metadata": {},
   "source": [
    "# Weather_API\n",
    "Yuqi Cheng; 2023.11.11; Homework 04 Part 2"
   ]
  },
  {
   "cell_type": "markdown",
   "id": "8e932850-4af1-486d-90c7-9ae63d03a979",
   "metadata": {},
   "source": [
    "1. This is the URL to the [documentation](https://www.weatherapi.com/docs/)."
   ]
  },
  {
   "cell_type": "code",
   "execution_count": 2,
   "id": "464e2e5d-839d-4676-ba14-ebd4688d47de",
   "metadata": {},
   "outputs": [],
   "source": [
    "# This is used to hide the API key by putting it into an environment variable.\n",
    "!touch .env\n",
    "# !echo \"API_KEY={MY_API}\" >> .env"
   ]
  },
  {
   "cell_type": "code",
   "execution_count": 1,
   "id": "2329d393-8591-4894-a74b-93535d8418ee",
   "metadata": {},
   "outputs": [],
   "source": [
    "import os\n",
    "from dotenv import load_dotenv\n",
    "load_dotenv()\n",
    "\n",
    "API_KEY = os.getenv('API_KEY')"
   ]
  },
  {
   "cell_type": "markdown",
   "id": "b0b8c7c8-2293-484b-8ceb-c45ffc04209c",
   "metadata": {},
   "source": [
    "2. Make a request for the current weather where you are born, or somewhere you've lived."
   ]
  },
  {
   "cell_type": "code",
   "execution_count": 5,
   "id": "5111ba2b-d5b4-483b-b988-0b0617f5b6e8",
   "metadata": {},
   "outputs": [],
   "source": [
    "import requests"
   ]
  },
  {
   "cell_type": "code",
   "execution_count": 6,
   "id": "85c0cfbe-4714-4848-88b3-30aaa93ad585",
   "metadata": {},
   "outputs": [],
   "source": [
    "url = 'https://api.weatherapi.com/v1/current.json?key='+ API_KEY + '&q=Jinhua&aqi=no'\n",
    "response = requests.get(url)\n",
    "data = response.json()"
   ]
  },
  {
   "cell_type": "code",
   "execution_count": 7,
   "id": "24aff82b-a8ba-498a-ba2e-ebc8c935c55f",
   "metadata": {},
   "outputs": [
    {
     "data": {
      "text/plain": [
       "{'location': {'name': 'Jinhua',\n",
       "  'region': 'Zhejiang',\n",
       "  'country': 'China',\n",
       "  'lat': 29.11,\n",
       "  'lon': 119.65,\n",
       "  'tz_id': 'Asia/Shanghai',\n",
       "  'localtime_epoch': 1699986686,\n",
       "  'localtime': '2023-11-15 2:31'},\n",
       " 'current': {'last_updated_epoch': 1699986600,\n",
       "  'last_updated': '2023-11-15 02:30',\n",
       "  'temp_c': 6.3,\n",
       "  'temp_f': 43.3,\n",
       "  'is_day': 0,\n",
       "  'condition': {'text': 'Clear',\n",
       "   'icon': '//cdn.weatherapi.com/weather/64x64/night/113.png',\n",
       "   'code': 1000},\n",
       "  'wind_mph': 2.9,\n",
       "  'wind_kph': 4.7,\n",
       "  'wind_degree': 86,\n",
       "  'wind_dir': 'E',\n",
       "  'pressure_mb': 1028.0,\n",
       "  'pressure_in': 30.36,\n",
       "  'precip_mm': 0.0,\n",
       "  'precip_in': 0.0,\n",
       "  'humidity': 75,\n",
       "  'cloud': 4,\n",
       "  'feelslike_c': 5.6,\n",
       "  'feelslike_f': 42.1,\n",
       "  'vis_km': 10.0,\n",
       "  'vis_miles': 6.0,\n",
       "  'uv': 1.0,\n",
       "  'gust_mph': 6.1,\n",
       "  'gust_kph': 9.8}}"
      ]
     },
     "execution_count": 7,
     "metadata": {},
     "output_type": "execute_result"
    }
   ],
   "source": [
    "data"
   ]
  },
  {
   "cell_type": "markdown",
   "id": "9133e7d2-89bb-4c7d-ada4-b1ed0f79607d",
   "metadata": {},
   "source": [
    "3. Print out the country this location is in."
   ]
  },
  {
   "cell_type": "code",
   "execution_count": 8,
   "id": "4b025620-4c06-4257-8f29-e4050fe419a6",
   "metadata": {},
   "outputs": [
    {
     "data": {
      "text/plain": [
       "'China'"
      ]
     },
     "execution_count": 8,
     "metadata": {},
     "output_type": "execute_result"
    }
   ],
   "source": [
    "data['location']['country']"
   ]
  },
  {
   "cell_type": "markdown",
   "id": "243914c8-e95e-4d0e-9115-71077ff17a59",
   "metadata": {},
   "source": [
    "4. Print out the difference between the current temperature and how warm it feels. \n",
    "Use \"It feels ___ degrees colder\" or \"It feels ___ degrees warmer,\" not negative numbers."
   ]
  },
  {
   "cell_type": "code",
   "execution_count": 9,
   "id": "cc0b1c23-4969-4783-8f53-f1ae6011051a",
   "metadata": {},
   "outputs": [
    {
     "name": "stdout",
     "output_type": "stream",
     "text": [
      "It feels 0.7000000000000002 degrees colder.\n"
     ]
    }
   ],
   "source": [
    "temp_c = data['current']['temp_c']\n",
    "feels = data['current']['feelslike_c']\n",
    "diff = temp_c - feels\n",
    "if diff > 0:\n",
    "    print(f\"It feels {diff} degrees colder.\")\n",
    "elif diff < 0:\n",
    "    print(f\"It feels {-diff} degrees warmer.\")\n",
    "else:\n",
    "    print(\"It feels the same with the current temperature.\")"
   ]
  },
  {
   "cell_type": "markdown",
   "id": "910b74d1-237d-46d1-a056-e61c2b73f87e",
   "metadata": {},
   "source": [
    "5. What's the current temperature at Heathrow International Airport? Use the airport's IATA code (LHR) to search."
   ]
  },
  {
   "cell_type": "code",
   "execution_count": 10,
   "id": "ce003d6e-f165-41be-8f2d-50e13046dc5a",
   "metadata": {},
   "outputs": [],
   "source": [
    "url = 'https://api.weatherapi.com/v1/current.json?key='+ API_KEY + '&q=LHR&aqi=no'\n",
    "response = requests.get(url)\n",
    "data = response.json()"
   ]
  },
  {
   "cell_type": "code",
   "execution_count": 11,
   "id": "4f6da922-66ef-4db3-a8ce-123cfc2ea89b",
   "metadata": {},
   "outputs": [
    {
     "data": {
      "text/plain": [
       "10.0"
      ]
     },
     "execution_count": 11,
     "metadata": {},
     "output_type": "execute_result"
    }
   ],
   "source": [
    "data['current']['temp_c']"
   ]
  },
  {
   "cell_type": "markdown",
   "id": "f5e4467d-69a9-4a73-8e33-fa7aa6f21964",
   "metadata": {},
   "source": [
    "6. What URL would I use to request a 3-day forecast at Heathrow?"
   ]
  },
  {
   "cell_type": "code",
   "execution_count": 12,
   "id": "9178594c-7e6c-43f3-a36c-2063f8feea3a",
   "metadata": {},
   "outputs": [],
   "source": [
    "url = 'https://api.weatherapi.com/v1/forecast.json?key=' + API_KEY +'&q=LHR&days=3&aqi=no&alerts=no'"
   ]
  },
  {
   "cell_type": "markdown",
   "id": "ee1c9c2b-fc42-49bb-b0bc-f699f2b8ad71",
   "metadata": {},
   "source": [
    "7. Print the date of each of the 3 days you're getting a forecast for."
   ]
  },
  {
   "cell_type": "code",
   "execution_count": 13,
   "id": "cb4ec747-f59b-4442-b4aa-3fcfa6673bfd",
   "metadata": {},
   "outputs": [],
   "source": [
    "response = requests.get(url)\n",
    "data = response.json()"
   ]
  },
  {
   "cell_type": "code",
   "execution_count": 14,
   "id": "0b9c997d-0a88-421d-96db-6f3c569041e7",
   "metadata": {},
   "outputs": [
    {
     "name": "stdout",
     "output_type": "stream",
     "text": [
      "2023-11-14\n",
      "2023-11-15\n",
      "2023-11-16\n"
     ]
    }
   ],
   "source": [
    "for days in data['forecast']['forecastday']:\n",
    "    print(days['date'])"
   ]
  },
  {
   "cell_type": "markdown",
   "id": "fbb394bb-585c-4827-ac8f-a8852d5c6890",
   "metadata": {},
   "source": [
    "8. Print the maximum temperature of each of the days."
   ]
  },
  {
   "cell_type": "code",
   "execution_count": 15,
   "id": "0f9db3dc-b3df-4702-a4bb-40f3bf5d7290",
   "metadata": {},
   "outputs": [
    {
     "name": "stdout",
     "output_type": "stream",
     "text": [
      "11.7\n",
      "10.8\n",
      "11.4\n"
     ]
    }
   ],
   "source": [
    "for days in data['forecast']['forecastday']:\n",
    "    print(days['day']['maxtemp_c'])"
   ]
  },
  {
   "cell_type": "markdown",
   "id": "5b64a395-48cf-43bb-9149-38d1a69db991",
   "metadata": {},
   "source": [
    "9. Print only the day with the highest maximum temperature."
   ]
  },
  {
   "cell_type": "code",
   "execution_count": 16,
   "id": "67973d5c-3598-4c93-bda8-5c8f70f5a571",
   "metadata": {},
   "outputs": [
    {
     "name": "stdout",
     "output_type": "stream",
     "text": [
      "2023-11-14 has the highest maximum temperature 11.7.\n"
     ]
    }
   ],
   "source": [
    "max_temp = -100\n",
    "for days in data['forecast']['forecastday']:\n",
    "    if days['day']['maxtemp_c'] > max_temp:\n",
    "        max_temp = days['day']['maxtemp_c']\n",
    "        max_date = days['date']\n",
    "print(f\"{max_date} has the highest maximum temperature {max_temp}.\")"
   ]
  },
  {
   "cell_type": "code",
   "execution_count": null,
   "id": "f9af49fc-3f91-472f-b8a9-07c995d5906f",
   "metadata": {},
   "outputs": [],
   "source": []
  }
 ],
 "metadata": {
  "kernelspec": {
   "display_name": "Python 3 (ipykernel)",
   "language": "python",
   "name": "python3"
  },
  "language_info": {
   "codemirror_mode": {
    "name": "ipython",
    "version": 3
   },
   "file_extension": ".py",
   "mimetype": "text/x-python",
   "name": "python",
   "nbconvert_exporter": "python",
   "pygments_lexer": "ipython3",
   "version": "3.11.6"
  }
 },
 "nbformat": 4,
 "nbformat_minor": 5
}
